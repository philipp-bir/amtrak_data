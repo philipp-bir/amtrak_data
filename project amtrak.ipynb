{
 "cells": [
  {
   "cell_type": "code",
   "execution_count": 1,
   "metadata": {},
   "outputs": [],
   "source": [
    "import pandas as pd\n",
    "import numpy as np\n",
    "import matplotlib.pyplot as plt\n",
    "import seaborn as sns\n",
    "import xgboost as xgb\n",
    "import math\n",
    "from sklearn.preprocessing import OneHotEncoder\n",
    "import datetime"
   ]
  },
  {
   "cell_type": "code",
   "execution_count": 2,
   "metadata": {},
   "outputs": [],
   "source": [
    "trains=pd.read_csv(\"trains/trains.csv\",\n",
    "                   usecols=[\"train_id\",\"origin_station_code\", \"scheduled_departure\",\n",
    "                            \"actual_departure\", \"destination_station_code\",\"scheduled_arrival\",\n",
    "                            \"actual_arrival\",\"delay\"],\n",
    "                   parse_dates=[\"scheduled_departure\",\"actual_departure\",\n",
    "                                \"scheduled_arrival\",\"actual_arrival\"],\n",
    "                  infer_datetime_format=True,\n",
    "                  dtype={\"train_id\":np.character,\n",
    "                          \"origin_station_code\":np.character,\n",
    "                          \"destination_station_code\":np.character,\n",
    "                          \"delay\":np.float}\n",
    "                  )"
   ]
  },
  {
   "cell_type": "code",
   "execution_count": 3,
   "metadata": {
    "scrolled": true
   },
   "outputs": [
    {
     "name": "stdout",
     "output_type": "stream",
     "text": [
      "<class 'pandas.core.frame.DataFrame'>\n",
      "RangeIndex: 905645 entries, 0 to 905644\n",
      "Data columns (total 8 columns):\n",
      "train_id                    905645 non-null object\n",
      "origin_station_code         905578 non-null object\n",
      "scheduled_departure         902568 non-null datetime64[ns]\n",
      "actual_departure            879895 non-null datetime64[ns]\n",
      "destination_station_code    905534 non-null object\n",
      "scheduled_arrival           903864 non-null datetime64[ns]\n",
      "actual_arrival              875164 non-null datetime64[ns]\n",
      "delay                       875164 non-null float64\n",
      "dtypes: datetime64[ns](4), float64(1), object(3)\n",
      "memory usage: 55.3+ MB\n"
     ]
    }
   ],
   "source": [
    "trains.info()"
   ]
  },
  {
   "cell_type": "code",
   "execution_count": 4,
   "metadata": {},
   "outputs": [
    {
     "data": {
      "text/plain": [
       "905645"
      ]
     },
     "execution_count": 4,
     "metadata": {},
     "output_type": "execute_result"
    }
   ],
   "source": [
    "len(trains)"
   ]
  },
  {
   "cell_type": "code",
   "execution_count": 5,
   "metadata": {},
   "outputs": [
    {
     "data": {
      "text/html": [
       "<div>\n",
       "<style scoped>\n",
       "    .dataframe tbody tr th:only-of-type {\n",
       "        vertical-align: middle;\n",
       "    }\n",
       "\n",
       "    .dataframe tbody tr th {\n",
       "        vertical-align: top;\n",
       "    }\n",
       "\n",
       "    .dataframe thead th {\n",
       "        text-align: right;\n",
       "    }\n",
       "</style>\n",
       "<table border=\"1\" class=\"dataframe\">\n",
       "  <thead>\n",
       "    <tr style=\"text-align: right;\">\n",
       "      <th></th>\n",
       "      <th>train_id</th>\n",
       "      <th>origin_station_code</th>\n",
       "      <th>scheduled_departure</th>\n",
       "      <th>actual_departure</th>\n",
       "      <th>destination_station_code</th>\n",
       "      <th>scheduled_arrival</th>\n",
       "      <th>actual_arrival</th>\n",
       "      <th>delay</th>\n",
       "    </tr>\n",
       "  </thead>\n",
       "  <tbody>\n",
       "    <tr>\n",
       "      <th>0</th>\n",
       "      <td>194</td>\n",
       "      <td>NPN</td>\n",
       "      <td>2007-06-16 09:00:00</td>\n",
       "      <td>2007-06-16 09:00:00</td>\n",
       "      <td>BOS</td>\n",
       "      <td>2007-06-16 21:05:00</td>\n",
       "      <td>2007-06-16 22:01:00</td>\n",
       "      <td>56.0</td>\n",
       "    </tr>\n",
       "    <tr>\n",
       "      <th>1</th>\n",
       "      <td>194</td>\n",
       "      <td>NPN</td>\n",
       "      <td>2007-06-17 09:00:00</td>\n",
       "      <td>2007-06-17 09:00:00</td>\n",
       "      <td>BOS</td>\n",
       "      <td>2007-06-17 21:05:00</td>\n",
       "      <td>2007-06-17 21:05:00</td>\n",
       "      <td>0.0</td>\n",
       "    </tr>\n",
       "    <tr>\n",
       "      <th>2</th>\n",
       "      <td>194</td>\n",
       "      <td>NPN</td>\n",
       "      <td>2007-06-23 09:00:00</td>\n",
       "      <td>2007-06-23 09:00:00</td>\n",
       "      <td>BOS</td>\n",
       "      <td>2007-06-23 21:05:00</td>\n",
       "      <td>2007-06-23 21:36:00</td>\n",
       "      <td>31.0</td>\n",
       "    </tr>\n",
       "    <tr>\n",
       "      <th>3</th>\n",
       "      <td>194</td>\n",
       "      <td>NPN</td>\n",
       "      <td>2007-06-24 09:00:00</td>\n",
       "      <td>2007-06-24 09:00:00</td>\n",
       "      <td>BOS</td>\n",
       "      <td>2007-06-24 21:05:00</td>\n",
       "      <td>2007-06-24 21:19:00</td>\n",
       "      <td>14.0</td>\n",
       "    </tr>\n",
       "    <tr>\n",
       "      <th>4</th>\n",
       "      <td>194</td>\n",
       "      <td>NPN</td>\n",
       "      <td>2007-06-30 09:00:00</td>\n",
       "      <td>2007-06-30 09:03:00</td>\n",
       "      <td>BOS</td>\n",
       "      <td>2007-06-30 21:05:00</td>\n",
       "      <td>2007-06-30 22:04:00</td>\n",
       "      <td>59.0</td>\n",
       "    </tr>\n",
       "  </tbody>\n",
       "</table>\n",
       "</div>"
      ],
      "text/plain": [
       "  train_id origin_station_code scheduled_departure    actual_departure  \\\n",
       "0      194                 NPN 2007-06-16 09:00:00 2007-06-16 09:00:00   \n",
       "1      194                 NPN 2007-06-17 09:00:00 2007-06-17 09:00:00   \n",
       "2      194                 NPN 2007-06-23 09:00:00 2007-06-23 09:00:00   \n",
       "3      194                 NPN 2007-06-24 09:00:00 2007-06-24 09:00:00   \n",
       "4      194                 NPN 2007-06-30 09:00:00 2007-06-30 09:03:00   \n",
       "\n",
       "  destination_station_code   scheduled_arrival      actual_arrival  delay  \n",
       "0                      BOS 2007-06-16 21:05:00 2007-06-16 22:01:00   56.0  \n",
       "1                      BOS 2007-06-17 21:05:00 2007-06-17 21:05:00    0.0  \n",
       "2                      BOS 2007-06-23 21:05:00 2007-06-23 21:36:00   31.0  \n",
       "3                      BOS 2007-06-24 21:05:00 2007-06-24 21:19:00   14.0  \n",
       "4                      BOS 2007-06-30 21:05:00 2007-06-30 22:04:00   59.0  "
      ]
     },
     "execution_count": 5,
     "metadata": {},
     "output_type": "execute_result"
    }
   ],
   "source": [
    "trains.head()"
   ]
  },
  {
   "cell_type": "markdown",
   "metadata": {},
   "source": [
    "## Number of trains canceled"
   ]
  },
  {
   "cell_type": "code",
   "execution_count": 6,
   "metadata": {},
   "outputs": [
    {
     "data": {
      "text/plain": [
       "0.033656675628971615"
      ]
     },
     "execution_count": 6,
     "metadata": {},
     "output_type": "execute_result"
    }
   ],
   "source": [
    "sum(trains[\"delay\"].isna())/len(trains[\"delay\"])"
   ]
  },
  {
   "cell_type": "code",
   "execution_count": 7,
   "metadata": {},
   "outputs": [],
   "source": [
    "trains[\"delay_or_zero\"]=trains[\"delay\"].apply(lambda x:max(x,0))"
   ]
  },
  {
   "cell_type": "code",
   "execution_count": 8,
   "metadata": {},
   "outputs": [],
   "source": [
    "mean_delay_per_train=trains.groupby(\"train_id\").filter(lambda x: len(x) > 100).groupby(\"train_id\")[\"delay\"].mean()"
   ]
  },
  {
   "cell_type": "code",
   "execution_count": 9,
   "metadata": {
    "scrolled": true
   },
   "outputs": [
    {
     "data": {
      "text/plain": [
       "train_id\n",
       "542    -10.257951\n",
       "538     -9.799294\n",
       "744     -8.493878\n",
       "546     -8.160165\n",
       "544     -7.614706\n",
       "540     -7.574719\n",
       "728     -7.566982\n",
       "52      -7.377344\n",
       "467     -6.817927\n",
       "449     -6.814464\n",
       "720     -6.591837\n",
       "534     -6.486374\n",
       "53      -6.460614\n",
       "734     -6.341463\n",
       "520     -6.310223\n",
       "745     -6.232493\n",
       "43      -6.224980\n",
       "751     -6.204023\n",
       "528     -6.124122\n",
       "250     -6.099371\n",
       "738     -5.920270\n",
       "522     -5.916227\n",
       "532     -5.730205\n",
       "746     -5.720327\n",
       "541     -5.651479\n",
       "724     -5.584345\n",
       "524     -5.573847\n",
       "551     -5.512283\n",
       "732     -5.501355\n",
       "536     -5.432721\n",
       "          ...    \n",
       "285     29.823232\n",
       "392     30.699786\n",
       "64      32.607301\n",
       "354     33.963036\n",
       "83      34.300766\n",
       "51      34.675235\n",
       "95      35.142584\n",
       "97      36.282308\n",
       "92      39.396830\n",
       "7       39.565283\n",
       "4       40.767832\n",
       "98      41.856887\n",
       "48      41.995557\n",
       "19      42.683518\n",
       "448     42.830798\n",
       "89      45.741461\n",
       "2       46.454159\n",
       "5       47.777842\n",
       "352     48.297791\n",
       "29      51.015148\n",
       "79      51.817547\n",
       "30      51.849835\n",
       "27      51.905294\n",
       "78      53.364706\n",
       "91      54.595039\n",
       "49      69.668237\n",
       "22      76.248708\n",
       "50      91.729358\n",
       "6       96.484935\n",
       "8      114.017878\n",
       "Name: delay, Length: 495, dtype: float64"
      ]
     },
     "execution_count": 9,
     "metadata": {},
     "output_type": "execute_result"
    }
   ],
   "source": [
    "mean_delay_per_train.sort_values()"
   ]
  },
  {
   "cell_type": "code",
   "execution_count": 10,
   "metadata": {},
   "outputs": [
    {
     "data": {
      "text/plain": [
       "train_id\n",
       "531       6.377400\n",
       "495       6.895254\n",
       "615       7.132788\n",
       "2205      7.553752\n",
       "533       7.655168\n",
       "679       8.047323\n",
       "260       8.438517\n",
       "230       8.641416\n",
       "620       8.788467\n",
       "529       8.884611\n",
       "520       8.994616\n",
       "609       9.005528\n",
       "525       9.099437\n",
       "601       9.104817\n",
       "334       9.190060\n",
       "522       9.364478\n",
       "600       9.422720\n",
       "526       9.670967\n",
       "733       9.861133\n",
       "541       9.988499\n",
       "2208     10.006731\n",
       "732      10.109073\n",
       "749      10.193909\n",
       "530      10.239105\n",
       "534      10.276892\n",
       "2103     10.279451\n",
       "720      10.314506\n",
       "2100     10.371879\n",
       "336      10.533100\n",
       "545      10.533586\n",
       "           ...    \n",
       "89       62.420623\n",
       "90       63.179521\n",
       "19       72.370543\n",
       "51       76.128959\n",
       "91       79.433422\n",
       "97       83.482216\n",
       "29       84.838464\n",
       "20       84.844193\n",
       "11       85.622103\n",
       "14       87.481689\n",
       "92       87.662424\n",
       "49       87.663548\n",
       "48       87.799165\n",
       "98       88.033565\n",
       "30       91.359397\n",
       "448      92.136118\n",
       "53       94.366869\n",
       "21       94.703650\n",
       "52      102.098655\n",
       "4       105.724136\n",
       "50      108.040488\n",
       "3       111.639244\n",
       "22      113.004026\n",
       "7       128.050792\n",
       "27      128.281200\n",
       "1       128.434088\n",
       "2       138.086525\n",
       "5       145.541750\n",
       "6       153.077304\n",
       "8       177.197568\n",
       "Name: delay, Length: 495, dtype: float64"
      ]
     },
     "execution_count": 10,
     "metadata": {},
     "output_type": "execute_result"
    }
   ],
   "source": [
    "std_delay_per_train=trains.groupby(\"train_id\").filter(lambda x: len(x) > 100).groupby(\"train_id\")[\"delay\"].std()\n",
    "std_delay_per_train.sort_values()"
   ]
  },
  {
   "cell_type": "code",
   "execution_count": 11,
   "metadata": {},
   "outputs": [],
   "source": [
    "mean_delay_per_destination=trains.groupby(\"destination_station_code\").filter(lambda x: len(x) > 100).groupby(\"destination_station_code\")[\"delay\"].mean()"
   ]
  },
  {
   "cell_type": "code",
   "execution_count": 12,
   "metadata": {
    "scrolled": true
   },
   "outputs": [
    {
     "data": {
      "text/plain": [
       "destination_station_code\n",
       "LOR    -7.377344\n",
       "SFA    -6.460614\n",
       "PGH    -6.216737\n",
       "SAC    -5.134580\n",
       "ARN    -4.860388\n",
       "OAC    -2.167650\n",
       "SJC    -1.164219\n",
       "PHL     0.512891\n",
       "KCY     1.552404\n",
       "IRV     1.647059\n",
       "NFK     2.081402\n",
       "OKJ     2.117067\n",
       "MKE     2.168981\n",
       "ALB     2.559028\n",
       "NHV     2.713281\n",
       "QCY     2.767657\n",
       "NYG     3.310680\n",
       "HAR     3.635153\n",
       "PTH     4.468428\n",
       "BFD     4.706856\n",
       "RUD     7.053919\n",
       "EUG     7.065746\n",
       "ATL     7.223602\n",
       "SAN     8.161572\n",
       "GTA     8.376965\n",
       "BEL     8.506173\n",
       "OKC     8.540753\n",
       "WAS     9.399395\n",
       "SLO     9.673081\n",
       "OSD     9.878689\n",
       "         ...    \n",
       "LAX    11.364089\n",
       "NYP    11.639563\n",
       "BRK    12.198280\n",
       "BOS    12.202708\n",
       "BON    12.336310\n",
       "FTW    12.804581\n",
       "SPG    13.154432\n",
       "WEM    13.299213\n",
       "SEA    13.652652\n",
       "GRR    15.013408\n",
       "VAC    15.219728\n",
       "NFL    16.442370\n",
       "LYH    16.467658\n",
       "CDL    18.190426\n",
       "PDX    18.390672\n",
       "IND    18.970769\n",
       "MTR    19.764454\n",
       "SAB    19.800000\n",
       "RVR    20.718102\n",
       "SAS    22.150378\n",
       "NPN    22.314852\n",
       "CLT    24.461583\n",
       "CHI    26.251690\n",
       "NOL    26.542453\n",
       "BNL    27.113636\n",
       "TWO    29.578084\n",
       "PNT    33.571539\n",
       "MIA    45.477222\n",
       "SAV    45.652128\n",
       "EMY    47.869790\n",
       "Name: delay, Length: 65, dtype: float64"
      ]
     },
     "execution_count": 12,
     "metadata": {},
     "output_type": "execute_result"
    }
   ],
   "source": [
    "mean_delay_per_destination.sort_values()"
   ]
  },
  {
   "cell_type": "markdown",
   "metadata": {},
   "source": [
    "## Mean delay (min) per day of the week (arrival)"
   ]
  },
  {
   "cell_type": "code",
   "execution_count": 13,
   "metadata": {},
   "outputs": [],
   "source": [
    "trains[\"arrival_dow\"]=trains[\"scheduled_arrival\"].dt.weekday"
   ]
  },
  {
   "cell_type": "code",
   "execution_count": 14,
   "metadata": {},
   "outputs": [],
   "source": [
    "mean_delay_per_dow=trains.groupby(\"arrival_dow\")[\"delay\"].mean()"
   ]
  },
  {
   "cell_type": "code",
   "execution_count": 15,
   "metadata": {},
   "outputs": [
    {
     "data": {
      "text/plain": [
       "<matplotlib.axes._subplots.AxesSubplot at 0x7efca4c1c278>"
      ]
     },
     "execution_count": 15,
     "metadata": {},
     "output_type": "execute_result"
    },
    {
     "data": {
      "image/png": "[encoded data removed]",
      "text/plain": [
       "<Figure size 432x288 with 1 Axes>"
      ]
     },
     "metadata": {
      "needs_background": "light"
     },
     "output_type": "display_data"
    }
   ],
   "source": [
    "mean_delay_per_dow.plot()"
   ]
  },
  {
   "cell_type": "markdown",
   "metadata": {},
   "source": [
    "## Mean delay (min) per day of the week (departure)"
   ]
  },
  {
   "cell_type": "code",
   "execution_count": 16,
   "metadata": {},
   "outputs": [],
   "source": [
    "trains[\"departure_dow\"]=trains[\"scheduled_departure\"].dt.weekday"
   ]
  },
  {
   "cell_type": "code",
   "execution_count": 17,
   "metadata": {},
   "outputs": [],
   "source": [
    "mean_delay_per_dow_dep=trains.groupby(\"departure_dow\")[\"delay\"].mean()"
   ]
  },
  {
   "cell_type": "code",
   "execution_count": 18,
   "metadata": {},
   "outputs": [
    {
     "data": {
      "text/plain": [
       "<matplotlib.axes._subplots.AxesSubplot at 0x7efcaa6cea20>"
      ]
     },
     "execution_count": 18,
     "metadata": {},
     "output_type": "execute_result"
    },
    {
     "data": {
      "image/png": "[encoded data removed]",
      "text/plain": [
       "<Figure size 432x288 with 1 Axes>"
      ]
     },
     "metadata": {
      "needs_background": "light"
     },
     "output_type": "display_data"
    }
   ],
   "source": [
    "mean_delay_per_dow_dep.plot()"
   ]
  },
  {
   "cell_type": "markdown",
   "metadata": {},
   "source": [
    "## Mean delay (min) per year"
   ]
  },
  {
   "cell_type": "code",
   "execution_count": 19,
   "metadata": {},
   "outputs": [],
   "source": [
    "trains[\"year\"]=trains[\"scheduled_departure\"].dt.year"
   ]
  },
  {
   "cell_type": "code",
   "execution_count": 20,
   "metadata": {},
   "outputs": [
    {
     "data": {
      "text/plain": [
       "<matplotlib.axes._subplots.AxesSubplot at 0x7efca98b59e8>"
      ]
     },
     "execution_count": 20,
     "metadata": {},
     "output_type": "execute_result"
    },
    {
     "data": {
      "image/png": "[encoded data removed]",
      "text/plain": [
       "<Figure size 432x288 with 1 Axes>"
      ]
     },
     "metadata": {
      "needs_background": "light"
     },
     "output_type": "display_data"
    }
   ],
   "source": [
    "mean_delay_per_year=trains.groupby(\"year\")[\"delay\"].mean()\n",
    "mean_delay_per_year.plot()"
   ]
  },
  {
   "cell_type": "markdown",
   "metadata": {},
   "source": [
    "## Mean delay (min) per month"
   ]
  },
  {
   "cell_type": "code",
   "execution_count": 21,
   "metadata": {},
   "outputs": [],
   "source": [
    "trains[\"month\"]=trains[\"scheduled_departure\"].dt.month"
   ]
  },
  {
   "cell_type": "code",
   "execution_count": 22,
   "metadata": {
    "scrolled": false
   },
   "outputs": [
    {
     "data": {
      "text/plain": [
       "<matplotlib.axes._subplots.AxesSubplot at 0x7efca10c50f0>"
      ]
     },
     "execution_count": 22,
     "metadata": {},
     "output_type": "execute_result"
    },
    {
     "data": {
      "image/png": "[encoded data removed]",
      "text/plain": [
       "<Figure size 432x288 with 1 Axes>"
      ]
     },
     "metadata": {
      "needs_background": "light"
     },
     "output_type": "display_data"
    }
   ],
   "source": [
    "mean_delay_per_month=trains.groupby(\"month\")[\"delay\"].mean()\n",
    "mean_delay_per_month.plot()"
   ]
  },
  {
   "cell_type": "markdown",
   "metadata": {},
   "source": [
    "## Mean delay (min) per week"
   ]
  },
  {
   "cell_type": "code",
   "execution_count": 23,
   "metadata": {},
   "outputs": [],
   "source": [
    "trains[\"week\"]=trains[\"scheduled_departure\"].dt.week"
   ]
  },
  {
   "cell_type": "code",
   "execution_count": 24,
   "metadata": {},
   "outputs": [
    {
     "data": {
      "text/plain": [
       "<matplotlib.axes._subplots.AxesSubplot at 0x7efca5ac45c0>"
      ]
     },
     "execution_count": 24,
     "metadata": {},
     "output_type": "execute_result"
    },
    {
     "data": {
      "image/png": "[encoded data removed]",
      "text/plain": [
       "<Figure size 432x288 with 1 Axes>"
      ]
     },
     "metadata": {
      "needs_background": "light"
     },
     "output_type": "display_data"
    }
   ],
   "source": [
    "mean_delay_per_week=trains.groupby(\"week\")[\"delay\"].mean()\n",
    "mean_delay_per_week.plot()"
   ]
  },
  {
   "cell_type": "markdown",
   "metadata": {},
   "source": [
    "## Mean delay (min) per day of the year"
   ]
  },
  {
   "cell_type": "code",
   "execution_count": 25,
   "metadata": {},
   "outputs": [
    {
     "data": {
      "text/plain": [
       "<matplotlib.axes._subplots.AxesSubplot at 0x7efca2cf7160>"
      ]
     },
     "execution_count": 25,
     "metadata": {},
     "output_type": "execute_result"
    },
    {
     "data": {
      "image/png": "[encoded data removed]",
      "text/plain": [
       "<Figure size 432x288 with 1 Axes>"
      ]
     },
     "metadata": {
      "needs_background": "light"
     },
     "output_type": "display_data"
    }
   ],
   "source": [
    "trains[\"day\"]=trains[\"scheduled_departure\"].dt.dayofyear\n",
    "mean_delay_per_day=trains.groupby([\"day\"])[\"delay\"].mean()\n",
    "mean_delay_per_day.plot()"
   ]
  },
  {
   "cell_type": "markdown",
   "metadata": {},
   "source": [
    "## Delay length plot per train id"
   ]
  },
  {
   "cell_type": "code",
   "execution_count": 26,
   "metadata": {},
   "outputs": [],
   "source": [
    "relevant_number_train_ids=set(trains.groupby(\"train_id\").filter(lambda x: len(x) > 100)[\"train_id\"])"
   ]
  },
  {
   "cell_type": "code",
   "execution_count": 27,
   "metadata": {},
   "outputs": [],
   "source": [
    "trains[\"long_delay_or_cancelled\"] = (trains[\"delay\"] >= 30) | (trains[\"delay\"].isna())"
   ]
  },
  {
   "cell_type": "code",
   "execution_count": 28,
   "metadata": {},
   "outputs": [],
   "source": [
    "trains[\"30min_delayed\"]=(~trains[\"delay\"].isna())&(60>trains[\"delay\"])&(trains[\"delay\"]>=30)\n",
    "trains[\"1h_delayed\"]=(~trains[\"delay\"].isna())&(180>trains[\"delay\"])&(trains[\"delay\"]>=60)\n",
    "trains[\"3h_delayed\"]=(~trains[\"delay\"].isna())&(360>trains[\"delay\"])&(trains[\"delay\"]>=180)\n",
    "trains[\"more_6h_delayed\"]=(~trains[\"delay\"].isna())&(trains[\"delay\"]>=360)\n",
    "trains[\"cancelled\"]=trains[\"delay\"].isna()"
   ]
  },
  {
   "cell_type": "code",
   "execution_count": 29,
   "metadata": {},
   "outputs": [],
   "source": [
    "relevant_trains=trains[trains[\"train_id\"].isin(relevant_number_train_ids)]"
   ]
  },
  {
   "cell_type": "code",
   "execution_count": 30,
   "metadata": {},
   "outputs": [
    {
     "data": {
      "text/plain": [
       "<matplotlib.axes._subplots.AxesSubplot at 0x7efca2c92dd8>"
      ]
     },
     "execution_count": 30,
     "metadata": {},
     "output_type": "execute_result"
    },
    {
     "data": {
      "image/png": "[encoded data removed]",
      "text/plain": [
       "<Figure size 432x288 with 1 Axes>"
      ]
     },
     "metadata": {
      "needs_background": "light"
     },
     "output_type": "display_data"
    }
   ],
   "source": [
    "relevant_trains.groupby('train_id')[\n",
    "    ['long_delay_or_cancelled',\"30min_delayed\",\"1h_delayed\",\n",
    "     \"3h_delayed\",\"more_6h_delayed\",\"cancelled\"]\n",
    "    ].mean().sort_values(\n",
    "    ascending=False,by='long_delay_or_cancelled'\n",
    ")[[\"30min_delayed\",\n",
    "   \"1h_delayed\",\n",
    "   \"3h_delayed\",\n",
    "   \"more_6h_delayed\",\n",
    "   \"cancelled\"]\n",
    " ].head(20).plot(kind='bar',stacked=True)"
   ]
  },
  {
   "cell_type": "markdown",
   "metadata": {},
   "source": [
    "# Predicting delay"
   ]
  },
  {
   "cell_type": "code",
   "execution_count": 31,
   "metadata": {},
   "outputs": [],
   "source": [
    "class ColumnPrep:\n",
    "    \"\"\"Utility class that does one-hot-encoding of categories\n",
    "    and normalization of numeric input.\n",
    "    \"\"\"\n",
    "    def __init__(self,train_data,ignore=[],label=None,na_cutoff=1,is_category=[],\n",
    "                 fill_zero_na_pre=[],fill_zero_na_post=[],to_predict_data=None):\n",
    "        self.train_data=train_data\n",
    "        self.cat_columns=[]\n",
    "        self.num_columns=[]\n",
    "        self.one_hot_encoder=OneHotEncoder(handle_unknown='ignore') #todo - replace with pandas get_dummy\n",
    "        self.ignore=ignore\n",
    "        self.label=label\n",
    "        self.is_category=is_category\n",
    "        self.na_cutoff=na_cutoff #ratio of how many rows at most can be NA for the column to be considered\n",
    "        self.na_category=\"None\"\n",
    "        \n",
    "        self.to_predict_data=to_predict_data\n",
    "        self.fill_zero_na_pre=fill_zero_na_pre\n",
    "        self.fill_zero_na_post=fill_zero_na_post\n",
    "        \n",
    "        self.normalize_data={}\n",
    "        \n",
    "        self.decide_cols_()\n",
    "\n",
    "    def is_good_category_(self,col):\n",
    "        if self.to_predict_data is None:\n",
    "            return True\n",
    "        to_predict_cats=set(self.to_predict_data[col].unique())\n",
    "        untrainable=to_predict_cats-set(self.train_data[col].unique())\n",
    "        if len(untrainable)>0:\n",
    "            print(f\"{col} - {untrainable}\")\n",
    "            return False\n",
    "\n",
    "        val_counts=data[col].value_counts(dropna=False).to_dict()\n",
    "        print(val_counts)\n",
    "        for c in val_counts.keys():\n",
    "            if val_counts[c]<10:\n",
    "                if c in to_predict_cats:\n",
    "                    return False\n",
    "        return True\n",
    "        \n",
    "    def decide_cols_(self):\n",
    "        for c in self.train_data.columns:\n",
    "            if c in self.ignore or c==self.label:\n",
    "                continue\n",
    "            na_count=sum(self.train_data[c].isna())\n",
    "            if na_count/len(self.train_data)<self.na_cutoff:\n",
    "                dtype=str(self.train_data[c].dtype)\n",
    "                if \"object\" in dtype or \"category\" in dtype or c in self.is_category:\n",
    "                    if self.is_good_category_(c):\n",
    "                        self.cat_columns+=[c]\n",
    "                        self.train_data[c]=self.train_data[c].fillna(self.na_category)\n",
    "                    else:\n",
    "                        print(f\"Dropping {c}\")\n",
    "                elif \"float\" in dtype:\n",
    "                    self.num_columns+=[c]\n",
    "                elif \"int\" in dtype:\n",
    "                    if len(set(self.train_data[c]))<10 and self.is_good_category_(c):\n",
    "                        self.cat_columns+=[c]\n",
    "                        self.train_data[c]=self.train_data[c].fillna(-999912312)\n",
    "                    else:\n",
    "                        self.num_columns+=[c]\n",
    "                else:\n",
    "                    #unknown dtype\n",
    "                    self.cat_columns+=[c]\n",
    "                    self.train_data[c]=self.train_data[c].fillna(self.na_category)\n",
    "        \n",
    "        for c in self.num_columns:\n",
    "            self.normalize_data[c]=(self.train_data[c].mean(),self.train_data[c].std())\n",
    "        \n",
    "        self.one_hot_encoder.fit(self.train_data[self.cat_columns])\n",
    "                        \n",
    "    def transform(self,data):\n",
    "        df=data[self.num_columns].join(pd.DataFrame(self.one_hot_encoder.transform(\n",
    "            data[self.cat_columns].fillna(self.na_category)).toarray(),index=data.index))\n",
    "        if self.label in data.columns:\n",
    "            df=df.join(data[self.label])\n",
    "        df[self.fill_zero_na_pre]=df[self.fill_zero_na_pre].fillna(0)\n",
    "        for c in self.num_columns:\n",
    "            mean,std=self.normalize_data[c]\n",
    "            df[c]=(df[c]-mean)/std\n",
    "        df=df.fillna(0)\n",
    "        return df"
   ]
  },
  {
   "cell_type": "code",
   "execution_count": 32,
   "metadata": {},
   "outputs": [],
   "source": [
    "train_data=trains[[\"train_id\",\"delay\"]].copy()"
   ]
  },
  {
   "cell_type": "code",
   "execution_count": 33,
   "metadata": {},
   "outputs": [],
   "source": [
    "q=trains[\"scheduled_departure\"].fillna(value=trains[\"actual_departure\"])\n",
    "train_data[\"dep_timestamp\"]=(q.apply(lambda x:x.timestamp() if not pd.isna(x) else np.nan)).astype(\"Int64\")\n",
    "train_data[\"weekday\"]=q.dt.dayofweek\n",
    "train_data[\"season\"]=(q.apply(lambda d:math.cos(2*math.pi*(d.dayofyear)/(365+int(d.is_leap_year)))\n",
    "                              if not pd.isna(d) else np.nan))\n",
    "train_data[\"arr_timestamp\"]=(trains[\"scheduled_arrival\"].fillna(value=trains[\"actual_arrival\"])\n",
    "                             .apply(lambda x:x.timestamp() if not pd.isna(x) else np.nan))"
   ]
  },
  {
   "cell_type": "code",
   "execution_count": 34,
   "metadata": {},
   "outputs": [],
   "source": [
    "train_data=train_data.dropna()"
   ]
  },
  {
   "cell_type": "code",
   "execution_count": 35,
   "metadata": {},
   "outputs": [],
   "source": [
    "count_train_id=train_data[\"train_id\"].value_counts()"
   ]
  },
  {
   "cell_type": "code",
   "execution_count": 36,
   "metadata": {},
   "outputs": [
    {
     "name": "stdout",
     "output_type": "stream",
     "text": [
      "<class 'pandas.core.frame.DataFrame'>\n",
      "Int64Index: 875097 entries, 0 to 905644\n",
      "Data columns (total 6 columns):\n",
      "train_id         875097 non-null object\n",
      "delay            875097 non-null float64\n",
      "dep_timestamp    875097 non-null Int64\n",
      "weekday          875097 non-null float64\n",
      "season           875097 non-null float64\n",
      "arr_timestamp    875097 non-null float64\n",
      "dtypes: Int64(1), float64(4), object(1)\n",
      "memory usage: 47.6+ MB\n"
     ]
    }
   ],
   "source": [
    "train_data.info()"
   ]
  },
  {
   "cell_type": "code",
   "execution_count": 37,
   "metadata": {},
   "outputs": [],
   "source": [
    "train_data[\"arr_timestamp\"]=train_data[\"arr_timestamp\"].astype(\"int64\")\n",
    "train_data[\"dep_timestamp\"]=train_data[\"dep_timestamp\"].astype(\"int64\")\n",
    "train_data[\"weekday\"]=train_data[\"weekday\"].astype(\"int64\")\n",
    "train_data[\"delay\"]=train_data[\"delay\"].astype(\"int64\")\n",
    "train_data[\"duration\"]=train_data[\"arr_timestamp\"]-train_data[\"dep_timestamp\"]\n",
    "_=train_data.pop(\"arr_timestamp\")"
   ]
  },
  {
   "cell_type": "code",
   "execution_count": 38,
   "metadata": {
    "scrolled": true
   },
   "outputs": [
    {
     "name": "stdout",
     "output_type": "stream",
     "text": [
      "<class 'pandas.core.frame.DataFrame'>\n",
      "Int64Index: 875097 entries, 0 to 905644\n",
      "Data columns (total 6 columns):\n",
      "train_id         875097 non-null object\n",
      "delay            875097 non-null int64\n",
      "dep_timestamp    875097 non-null int64\n",
      "weekday          875097 non-null int64\n",
      "season           875097 non-null float64\n",
      "duration         875097 non-null int64\n",
      "dtypes: float64(1), int64(4), object(1)\n",
      "memory usage: 46.7+ MB\n"
     ]
    }
   ],
   "source": [
    "train_data.info()"
   ]
  },
  {
   "cell_type": "code",
   "execution_count": 39,
   "metadata": {},
   "outputs": [],
   "source": [
    "enough_data_trains=count_train_id[count_train_id>3000].index\n",
    "train_data_red=train_data[train_data[\"train_id\"].isin(enough_data_trains)].copy()"
   ]
  },
  {
   "cell_type": "code",
   "execution_count": 40,
   "metadata": {},
   "outputs": [],
   "source": [
    "train_pre_date=train_data_red[train_data_red[\"dep_timestamp\"]<datetime.datetime(2017,1,1).timestamp()].copy()\n",
    "train_post_date=train_data_red.drop(train_pre_date.index)"
   ]
  },
  {
   "cell_type": "code",
   "execution_count": 41,
   "metadata": {},
   "outputs": [
    {
     "name": "stderr",
     "output_type": "stream",
     "text": [
      "/home/phil/python/jupyter/env/lib/python3.6/site-packages/xgboost/core.py:587: FutureWarning: Series.base is deprecated and will be removed in a future version\n",
      "  if getattr(data, 'base', None) is not None and \\\n",
      "/home/phil/python/jupyter/env/lib/python3.6/site-packages/xgboost/core.py:588: FutureWarning: Series.base is deprecated and will be removed in a future version\n",
      "  data.base is not None and isinstance(data, np.ndarray) \\\n"
     ]
    }
   ],
   "source": [
    "cp=ColumnPrep(train_pre_date,label=\"delay\")\n",
    "train_pre_tf=cp.transform(train_pre_date)\n",
    "train_pre_label=train_pre_tf.pop(\"delay\")\n",
    "xgb_pre_train=xgb.DMatrix(train_pre_tf,label=train_pre_label)"
   ]
  },
  {
   "cell_type": "code",
   "execution_count": 42,
   "metadata": {},
   "outputs": [],
   "source": [
    "param = {'max_depth': 4, 'eta': 0.1, \"subsample\":0.7,\"verbosity\":0}\n",
    "bst=xgb.train(param,xgb_pre_train,num_boost_round=300)"
   ]
  },
  {
   "cell_type": "code",
   "execution_count": 43,
   "metadata": {},
   "outputs": [],
   "source": [
    "train_post_tf=cp.transform(train_post_date)\n",
    "real_delay=train_post_tf.pop(\"delay\")\n",
    "xgb_post_train=xgb.DMatrix(train_post_tf)\n",
    "pred_delay=bst.predict(xgb_post_train)"
   ]
  },
  {
   "cell_type": "code",
   "execution_count": 44,
   "metadata": {},
   "outputs": [
    {
     "data": {
      "text/plain": [
       "37.84872210879594"
      ]
     },
     "execution_count": 44,
     "metadata": {},
     "output_type": "execute_result"
    }
   ],
   "source": [
    "abs(real_delay-pred_delay).mean()"
   ]
  },
  {
   "cell_type": "code",
   "execution_count": 45,
   "metadata": {},
   "outputs": [],
   "source": [
    "pred_delay_df=pd.DataFrame(pred_delay,columns=[\"predicted\"],index=real_delay.index)\n",
    "train_data_comp=train_post_date.join(pred_delay_df)"
   ]
  },
  {
   "cell_type": "code",
   "execution_count": 46,
   "metadata": {
    "scrolled": true
   },
   "outputs": [
    {
     "data": {
      "text/html": [
       "<div>\n",
       "<style scoped>\n",
       "    .dataframe tbody tr th:only-of-type {\n",
       "        vertical-align: middle;\n",
       "    }\n",
       "\n",
       "    .dataframe tbody tr th {\n",
       "        vertical-align: top;\n",
       "    }\n",
       "\n",
       "    .dataframe thead th {\n",
       "        text-align: right;\n",
       "    }\n",
       "</style>\n",
       "<table border=\"1\" class=\"dataframe\">\n",
       "  <thead>\n",
       "    <tr style=\"text-align: right;\">\n",
       "      <th></th>\n",
       "      <th>train_id</th>\n",
       "      <th>delay</th>\n",
       "      <th>dep_timestamp</th>\n",
       "      <th>weekday</th>\n",
       "      <th>season</th>\n",
       "      <th>duration</th>\n",
       "      <th>predicted</th>\n",
       "    </tr>\n",
       "  </thead>\n",
       "  <tbody>\n",
       "    <tr>\n",
       "      <th>798779</th>\n",
       "      <td>11</td>\n",
       "      <td>-36</td>\n",
       "      <td>1483263300</td>\n",
       "      <td>6</td>\n",
       "      <td>0.999852</td>\n",
       "      <td>127500</td>\n",
       "      <td>38.570644</td>\n",
       "    </tr>\n",
       "    <tr>\n",
       "      <th>798780</th>\n",
       "      <td>11</td>\n",
       "      <td>2</td>\n",
       "      <td>1483349700</td>\n",
       "      <td>0</td>\n",
       "      <td>0.999407</td>\n",
       "      <td>127500</td>\n",
       "      <td>36.408604</td>\n",
       "    </tr>\n",
       "    <tr>\n",
       "      <th>798781</th>\n",
       "      <td>11</td>\n",
       "      <td>66</td>\n",
       "      <td>1483436100</td>\n",
       "      <td>1</td>\n",
       "      <td>0.998667</td>\n",
       "      <td>127500</td>\n",
       "      <td>44.126736</td>\n",
       "    </tr>\n",
       "    <tr>\n",
       "      <th>798782</th>\n",
       "      <td>11</td>\n",
       "      <td>280</td>\n",
       "      <td>1483522500</td>\n",
       "      <td>2</td>\n",
       "      <td>0.997630</td>\n",
       "      <td>127500</td>\n",
       "      <td>40.119377</td>\n",
       "    </tr>\n",
       "    <tr>\n",
       "      <th>798783</th>\n",
       "      <td>11</td>\n",
       "      <td>66</td>\n",
       "      <td>1483608900</td>\n",
       "      <td>3</td>\n",
       "      <td>0.996298</td>\n",
       "      <td>127500</td>\n",
       "      <td>37.428871</td>\n",
       "    </tr>\n",
       "  </tbody>\n",
       "</table>\n",
       "</div>"
      ],
      "text/plain": [
       "       train_id  delay  dep_timestamp  weekday    season  duration  predicted\n",
       "798779       11    -36     1483263300        6  0.999852    127500  38.570644\n",
       "798780       11      2     1483349700        0  0.999407    127500  36.408604\n",
       "798781       11     66     1483436100        1  0.998667    127500  44.126736\n",
       "798782       11    280     1483522500        2  0.997630    127500  40.119377\n",
       "798783       11     66     1483608900        3  0.996298    127500  37.428871"
      ]
     },
     "execution_count": 46,
     "metadata": {},
     "output_type": "execute_result"
    }
   ],
   "source": [
    "train_data_comp.head()"
   ]
  },
  {
   "cell_type": "markdown",
   "metadata": {},
   "source": [
    "## Actual mean delay in 2017 vs. prediction for day of the week"
   ]
  },
  {
   "cell_type": "code",
   "execution_count": 47,
   "metadata": {},
   "outputs": [
    {
     "data": {
      "text/plain": [
       "<matplotlib.axes._subplots.AxesSubplot at 0x7efcabd62198>"
      ]
     },
     "execution_count": 47,
     "metadata": {},
     "output_type": "execute_result"
    },
    {
     "data": {
      "image/png": "[encoded data removed]",
      "text/plain": [
       "<Figure size 432x288 with 1 Axes>"
      ]
     },
     "metadata": {
      "needs_background": "light"
     },
     "output_type": "display_data"
    }
   ],
   "source": [
    "per_week_day=train_data_comp.groupby(\"weekday\")[[\"delay\",\"predicted\"]].mean()\n",
    "per_week_day.plot()"
   ]
  },
  {
   "cell_type": "markdown",
   "metadata": {},
   "source": [
    "## Actual mean delay in 2017 vs. prediction for \"season\" (-1 summer, 1 winter, 0 fall or spring)"
   ]
  },
  {
   "cell_type": "code",
   "execution_count": 48,
   "metadata": {},
   "outputs": [
    {
     "data": {
      "text/plain": [
       "<matplotlib.axes._subplots.AxesSubplot at 0x7efcacd97128>"
      ]
     },
     "execution_count": 48,
     "metadata": {},
     "output_type": "execute_result"
    },
    {
     "data": {
      "image/png": "[encoded data removed]",
      "text/plain": [
       "<Figure size 432x288 with 1 Axes>"
      ]
     },
     "metadata": {
      "needs_background": "light"
     },
     "output_type": "display_data"
    }
   ],
   "source": [
    "per_season=train_data_comp.groupby(lambda x:round(train_data_comp.loc[x][\"season\"]*5))[[\"delay\",\"predicted\"]].mean()\n",
    "per_season.plot()"
   ]
  },
  {
   "cell_type": "code",
   "execution_count": null,
   "metadata": {},
   "outputs": [],
   "source": []
  }
 ],
 "metadata": {
  "kernelspec": {
   "display_name": "Python 3",
   "language": "python",
   "name": "python3"
  },
  "language_info": {
   "codemirror_mode": {
    "name": "ipython",
    "version": 3
   },
   "file_extension": ".py",
   "mimetype": "text/x-python",
   "name": "python",
   "nbconvert_exporter": "python",
   "pygments_lexer": "ipython3",
   "version": "3.6.7"
  }
 },
 "nbformat": 4,
 "nbformat_minor": 2
}
