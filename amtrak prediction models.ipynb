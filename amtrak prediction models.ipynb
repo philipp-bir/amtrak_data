{
 "cells": [
  {
   "cell_type": "code",
   "execution_count": 1,
   "metadata": {},
   "outputs": [],
   "source": [
    "import pandas as pd\n",
    "import numpy as np\n",
    "import matplotlib.pyplot as plt\n",
    "import seaborn as sns\n",
    "import xgboost as xgb\n",
    "import math\n",
    "import datetime\n",
    "\n",
    "from predictions import ColumnTransform"
   ]
  },
  {
   "cell_type": "markdown",
   "metadata": {},
   "source": [
    "# load data"
   ]
  },
  {
   "cell_type": "code",
   "execution_count": 2,
   "metadata": {},
   "outputs": [],
   "source": [
    "trains=pd.read_csv(\"trains/trains.csv\",\n",
    "                   usecols=[\"train_id\",\"nr_of_stations\",\"origin_station_code\", \"scheduled_departure\",\n",
    "                            \"actual_departure\", \"destination_station_code\",\"scheduled_arrival\",\n",
    "                            \"actual_arrival\",\"delay\"],\n",
    "                   parse_dates=[\"scheduled_departure\",\"actual_departure\",\n",
    "                                \"scheduled_arrival\",\"actual_arrival\"],\n",
    "                  infer_datetime_format=True,\n",
    "                  dtype={\"train_id\":np.character,\n",
    "                          \"origin_station_code\":np.character,\n",
    "                          \"destination_station_code\":np.character,\n",
    "                          \"delay\":np.float}\n",
    "                  )"
   ]
  },
  {
   "cell_type": "code",
   "execution_count": 3,
   "metadata": {},
   "outputs": [
    {
     "name": "stdout",
     "output_type": "stream",
     "text": [
      "<class 'pandas.core.frame.DataFrame'>\n",
      "RangeIndex: 905628 entries, 0 to 905627\n",
      "Data columns (total 9 columns):\n",
      "train_id                    905628 non-null object\n",
      "nr_of_stations              905628 non-null int64\n",
      "origin_station_code         905628 non-null object\n",
      "scheduled_departure         905628 non-null object\n",
      "actual_departure            905628 non-null object\n",
      "destination_station_code    905628 non-null object\n",
      "scheduled_arrival           905628 non-null object\n",
      "actual_arrival              905628 non-null object\n",
      "delay                       875169 non-null float64\n",
      "dtypes: float64(1), int64(1), object(7)\n",
      "memory usage: 62.2+ MB\n"
     ]
    }
   ],
   "source": [
    "trains.info()"
   ]
  },
  {
   "cell_type": "markdown",
   "metadata": {},
   "source": [
    "# gather the fields we want to use"
   ]
  },
  {
   "cell_type": "code",
   "execution_count": 4,
   "metadata": {},
   "outputs": [],
   "source": [
    "train_data=trains[[\"train_id\",\"delay\",\"nr_of_stations\"]].copy()"
   ]
  },
  {
   "cell_type": "code",
   "execution_count": 5,
   "metadata": {},
   "outputs": [],
   "source": [
    "q=trains[\"scheduled_departure\"].fillna(value=trains[\"actual_departure\"])\n",
    "\n",
    "train_data[\"dep_timestamp\"]=(q.apply(lambda x:x.timestamp() if not pd.isna(x) and x!=\"NaT\" else np.nan)).astype(\"Int64\")\n",
    "\n",
    "train_data[\"weekday\"]=(q.apply(lambda x:x.weekday() if not pd.isna(x) and x!=\"NaT\" else np.nan)).astype(\"Int64\")\n",
    "\n",
    "train_data[\"season\"]=(q.apply(lambda d:math.cos(2*math.pi*(d.timetuple().tm_yday)/(365+int(d.year%4==0)))\n",
    "                              if not pd.isna(d) and d!=\"NaT\" else np.nan))\n",
    "\n",
    "train_data[\"arr_timestamp\"]=(trains[\"scheduled_arrival\"].fillna(value=trains[\"actual_arrival\"])\n",
    "                             .apply(lambda x:x.timestamp() if not pd.isna(x) and x!=\"NaT\" else np.nan))"
   ]
  },
  {
   "cell_type": "code",
   "execution_count": 6,
   "metadata": {},
   "outputs": [
    {
     "data": {
      "text/plain": [
       "905628"
      ]
     },
     "execution_count": 6,
     "metadata": {},
     "output_type": "execute_result"
    }
   ],
   "source": [
    "len(train_data)"
   ]
  },
  {
   "cell_type": "code",
   "execution_count": 7,
   "metadata": {},
   "outputs": [],
   "source": [
    "train_data=train_data.dropna()"
   ]
  },
  {
   "cell_type": "code",
   "execution_count": 8,
   "metadata": {},
   "outputs": [
    {
     "data": {
      "text/plain": [
       "870757"
      ]
     },
     "execution_count": 8,
     "metadata": {},
     "output_type": "execute_result"
    }
   ],
   "source": [
    "len(train_data)"
   ]
  },
  {
   "cell_type": "code",
   "execution_count": 9,
   "metadata": {},
   "outputs": [],
   "source": [
    "train_data[\"arr_timestamp\"]=train_data[\"arr_timestamp\"].astype(\"int64\")\n",
    "train_data[\"dep_timestamp\"]=train_data[\"dep_timestamp\"].astype(\"int64\")\n",
    "train_data[\"weekday\"]=train_data[\"weekday\"].astype(\"int64\")\n",
    "train_data[\"delay\"]=train_data[\"delay\"].astype(\"int64\")"
   ]
  },
  {
   "cell_type": "code",
   "execution_count": 10,
   "metadata": {},
   "outputs": [
    {
     "name": "stdout",
     "output_type": "stream",
     "text": [
      "<class 'pandas.core.frame.DataFrame'>\n",
      "Int64Index: 870757 entries, 0 to 905627\n",
      "Data columns (total 7 columns):\n",
      "train_id          870757 non-null object\n",
      "delay             870757 non-null int64\n",
      "nr_of_stations    870757 non-null int64\n",
      "dep_timestamp     870757 non-null int64\n",
      "weekday           870757 non-null int64\n",
      "season            870757 non-null float64\n",
      "duration          870757 non-null int64\n",
      "dtypes: float64(1), int64(5), object(1)\n",
      "memory usage: 53.1+ MB\n"
     ]
    }
   ],
   "source": [
    "train_data[\"duration\"]=train_data[\"arr_timestamp\"]-train_data[\"dep_timestamp\"]\n",
    "\n",
    "_=train_data.pop(\"arr_timestamp\")\n",
    "\n",
    "train_data.info()"
   ]
  },
  {
   "cell_type": "markdown",
   "metadata": {},
   "source": [
    "# Only keep data of trains with at least 3000 valid entries"
   ]
  },
  {
   "cell_type": "code",
   "execution_count": 11,
   "metadata": {},
   "outputs": [
    {
     "data": {
      "text/plain": [
       "349282"
      ]
     },
     "execution_count": 11,
     "metadata": {},
     "output_type": "execute_result"
    }
   ],
   "source": [
    "count_train_id=train_data[\"train_id\"].value_counts()\n",
    "\n",
    "more_data_trains=count_train_id[count_train_id>3000].index\n",
    "\n",
    "train_data_red=train_data[train_data[\"train_id\"].isin(more_data_trains)].copy()\n",
    "\n",
    "len(train_data_red)"
   ]
  },
  {
   "cell_type": "markdown",
   "metadata": {},
   "source": [
    "# We will use pre 2016 data to predict 2016 and pre 2017 data to predict 2017"
   ]
  },
  {
   "cell_type": "code",
   "execution_count": 12,
   "metadata": {},
   "outputs": [],
   "source": [
    "train_data_2016=train_data_red[\n",
    "    (datetime.datetime(2016,1,1).timestamp()<=train_data_red[\"dep_timestamp\"])&\n",
    "    (datetime.datetime(2017,1,1).timestamp()>train_data_red[\"dep_timestamp\"])\n",
    "]"
   ]
  },
  {
   "cell_type": "code",
   "execution_count": 13,
   "metadata": {},
   "outputs": [
    {
     "data": {
      "text/plain": [
       "34328"
      ]
     },
     "execution_count": 13,
     "metadata": {},
     "output_type": "execute_result"
    }
   ],
   "source": [
    "len(train_data_2016)"
   ]
  },
  {
   "cell_type": "code",
   "execution_count": 14,
   "metadata": {},
   "outputs": [],
   "source": [
    "train_data_2017=train_data_red[\n",
    "    (datetime.datetime(2017,1,1).timestamp()<=train_data_red[\"dep_timestamp\"])&\n",
    "    (datetime.datetime(2018,1,1).timestamp()>train_data_red[\"dep_timestamp\"])\n",
    "]"
   ]
  },
  {
   "cell_type": "code",
   "execution_count": 15,
   "metadata": {},
   "outputs": [
    {
     "data": {
      "text/plain": [
       "34383"
      ]
     },
     "execution_count": 15,
     "metadata": {},
     "output_type": "execute_result"
    }
   ],
   "source": [
    "len(train_data_2017)"
   ]
  },
  {
   "cell_type": "markdown",
   "metadata": {},
   "source": [
    "# To train, we cut off 5% on either side, to get rid of outliers"
   ]
  },
  {
   "cell_type": "code",
   "execution_count": 16,
   "metadata": {},
   "outputs": [
    {
     "data": {
      "text/plain": [
       "-33.0"
      ]
     },
     "execution_count": 16,
     "metadata": {},
     "output_type": "execute_result"
    }
   ],
   "source": [
    "min_delay=train_data_red[\"delay\"].quantile(.05)\n",
    "min_delay"
   ]
  },
  {
   "cell_type": "code",
   "execution_count": 17,
   "metadata": {},
   "outputs": [
    {
     "data": {
      "text/plain": [
       "125.0"
      ]
     },
     "execution_count": 17,
     "metadata": {},
     "output_type": "execute_result"
    }
   ],
   "source": [
    "max_delay=train_data_red[\"delay\"].quantile(.95)\n",
    "max_delay"
   ]
  },
  {
   "cell_type": "code",
   "execution_count": 18,
   "metadata": {},
   "outputs": [],
   "source": [
    "train_data_no_outliers=train_data_red[(min_delay<train_data_red[\"delay\"])&(train_data_red[\"delay\"]<max_delay)]"
   ]
  },
  {
   "cell_type": "code",
   "execution_count": 19,
   "metadata": {},
   "outputs": [
    {
     "data": {
      "text/plain": [
       "313677"
      ]
     },
     "execution_count": 19,
     "metadata": {},
     "output_type": "execute_result"
    }
   ],
   "source": [
    "len(train_data_no_outliers)"
   ]
  },
  {
   "cell_type": "markdown",
   "metadata": {},
   "source": [
    "# Distribution of delay (log-scale)"
   ]
  },
  {
   "cell_type": "code",
   "execution_count": 20,
   "metadata": {},
   "outputs": [
    {
     "data": {
      "image/png": "[encoded data removed]",
      "text/plain": [
       "<Figure size 432x288 with 1 Axes>"
      ]
     },
     "metadata": {
      "needs_background": "light"
     },
     "output_type": "display_data"
    }
   ],
   "source": [
    "import matplotlib.ticker as ticker\n",
    "plt.figure()\n",
    "ax = plt.axes()\n",
    "ax.xaxis.set_minor_locator(ticker.MultipleLocator(5))\n",
    "np.log(train_data_no_outliers[\"delay\"].value_counts().sort_index()).plot()\n",
    "plt.grid(True,which=\"both\")"
   ]
  },
  {
   "cell_type": "markdown",
   "metadata": {},
   "source": [
    "# Preparing the training data"
   ]
  },
  {
   "cell_type": "code",
   "execution_count": 21,
   "metadata": {},
   "outputs": [],
   "source": [
    "train_data_n_o_pre_2016=train_data_no_outliers[train_data_no_outliers[\"dep_timestamp\"]<datetime.datetime(2016,1,1).timestamp()]"
   ]
  },
  {
   "cell_type": "code",
   "execution_count": 22,
   "metadata": {},
   "outputs": [],
   "source": [
    "train_data_n_o_pre_2017=train_data_no_outliers[train_data_no_outliers[\"dep_timestamp\"]<datetime.datetime(2017,1,1).timestamp()]"
   ]
  },
  {
   "cell_type": "markdown",
   "metadata": {},
   "source": [
    "# Train the models"
   ]
  },
  {
   "cell_type": "code",
   "execution_count": 23,
   "metadata": {},
   "outputs": [
    {
     "name": "stderr",
     "output_type": "stream",
     "text": [
      "/home/phil/python/jupyter/env/lib/python3.6/site-packages/xgboost/core.py:587: FutureWarning: Series.base is deprecated and will be removed in a future version\n",
      "  if getattr(data, 'base', None) is not None and \\\n",
      "/home/phil/python/jupyter/env/lib/python3.6/site-packages/xgboost/core.py:588: FutureWarning: Series.base is deprecated and will be removed in a future version\n",
      "  data.base is not None and isinstance(data, np.ndarray) \\\n"
     ]
    }
   ],
   "source": [
    "ct_pre_2016=ColumnTransform(train_data_n_o_pre_2016,label=\"delay\")\n",
    "td_pre_2016_tf=ct_pre_2016.transform(train_data_n_o_pre_2016)\n",
    "td_pre_2016_label=td_pre_2016_tf.pop(\"delay\")\n",
    "xgb_pre_2016=xgb.DMatrix(td_pre_2016_tf,label=td_pre_2016_label)\n",
    "\n",
    "param = {'max_depth': 4, 'eta': 0.1, \"subsample\":0.7,\"verbosity\":0}\n",
    "bst_2016=xgb.train(param,xgb_pre_2016,num_boost_round=300)"
   ]
  },
  {
   "cell_type": "code",
   "execution_count": 24,
   "metadata": {},
   "outputs": [],
   "source": [
    "ct_pre_2017=ColumnTransform(train_data_n_o_pre_2017,label=\"delay\")\n",
    "td_pre_2017_tf=ct_pre_2016.transform(train_data_n_o_pre_2017)\n",
    "td_pre_2017_label=td_pre_2017_tf.pop(\"delay\")\n",
    "xgb_pre_2017=xgb.DMatrix(td_pre_2017_tf,label=td_pre_2017_label)\n",
    "\n",
    "param = {'max_depth': 4, 'eta': 0.1, \"subsample\":0.7,\"verbosity\":0}\n",
    "bst_2017=xgb.train(param,xgb_pre_2017,num_boost_round=300)"
   ]
  },
  {
   "cell_type": "markdown",
   "metadata": {},
   "source": [
    "# Getting predictions"
   ]
  },
  {
   "cell_type": "code",
   "execution_count": 25,
   "metadata": {},
   "outputs": [],
   "source": [
    "train_data_2016_tf=ct_pre_2016.transform(train_data_2016)\n",
    "delay_real_2016=train_data_2016_tf.pop(\"delay\")\n",
    "xgb_td_2016=xgb.DMatrix(train_data_2016_tf)\n",
    "\n",
    "delay_pred_2016=bst_2016.predict(xgb_td_2016)"
   ]
  },
  {
   "cell_type": "code",
   "execution_count": 26,
   "metadata": {},
   "outputs": [],
   "source": [
    "train_data_2017_tf=ct_pre_2017.transform(train_data_2017)\n",
    "delay_real_2017=train_data_2017_tf.pop(\"delay\")\n",
    "xgb_td_2017=xgb.DMatrix(train_data_2017_tf)\n",
    "\n",
    "delay_pred_2017=bst_2017.predict(xgb_td_2017)"
   ]
  },
  {
   "cell_type": "markdown",
   "metadata": {},
   "source": [
    "# How well are the predictions doing?"
   ]
  },
  {
   "cell_type": "code",
   "execution_count": 27,
   "metadata": {},
   "outputs": [
    {
     "data": {
      "text/plain": [
       "28.27747707103647"
      ]
     },
     "execution_count": 27,
     "metadata": {},
     "output_type": "execute_result"
    }
   ],
   "source": [
    "(delay_real_2016-delay_pred_2016).abs().mean()"
   ]
  },
  {
   "cell_type": "code",
   "execution_count": 28,
   "metadata": {},
   "outputs": [
    {
     "data": {
      "text/plain": [
       "32.24828796322855"
      ]
     },
     "execution_count": 28,
     "metadata": {},
     "output_type": "execute_result"
    }
   ],
   "source": [
    "(delay_real_2017-delay_pred_2017).abs().mean()"
   ]
  },
  {
   "cell_type": "markdown",
   "metadata": {},
   "source": [
    "# Generate some per-train-line stats on the prediction\n",
    "## What is the mean absolure error, what is the 70 percentile on the absolute error"
   ]
  },
  {
   "cell_type": "code",
   "execution_count": 29,
   "metadata": {},
   "outputs": [],
   "source": [
    "prediction_2016=train_data_2016[[\"train_id\",\"delay\"]].join(pd.DataFrame(delay_pred_2016,columns=[\"delay_prediction\"],index=delay_real_2016.index))"
   ]
  },
  {
   "cell_type": "code",
   "execution_count": 30,
   "metadata": {},
   "outputs": [],
   "source": [
    "prediction_2016[\"abs_error_2016\"]=(prediction_2016[\"delay_prediction\"]-prediction_2016[\"delay\"]).abs()"
   ]
  },
  {
   "cell_type": "code",
   "execution_count": 31,
   "metadata": {},
   "outputs": [],
   "source": [
    "prediction_error_per_train=prediction_2016[[\"train_id\",\"abs_error_2016\"]].groupby(\"train_id\").mean()"
   ]
  },
  {
   "cell_type": "code",
   "execution_count": 32,
   "metadata": {},
   "outputs": [],
   "source": [
    "prediction_error_per_train[\"P70_2016\"]=prediction_2016[[\"train_id\",\"abs_error_2016\"]].groupby(\"train_id\").quantile(.7)"
   ]
  },
  {
   "cell_type": "code",
   "execution_count": 33,
   "metadata": {},
   "outputs": [],
   "source": [
    "prediction_2017=train_data_2017[[\"train_id\",\"delay\"]].join(pd.DataFrame(delay_pred_2017,columns=[\"delay_prediction\"],index=delay_real_2017.index))\n",
    "prediction_2017[\"abs_error_2017\"]=(prediction_2017[\"delay_prediction\"]-prediction_2017[\"delay\"]).abs()"
   ]
  },
  {
   "cell_type": "code",
   "execution_count": 34,
   "metadata": {},
   "outputs": [],
   "source": [
    "prediction_error_per_train[\"abs_error_2017\"]=prediction_2017[[\"train_id\",\"abs_error_2017\"]].groupby(\"train_id\").mean()\n",
    "prediction_error_per_train[\"P70_2017\"]=prediction_2017[[\"train_id\",\"abs_error_2017\"]].groupby(\"train_id\").quantile(.7)"
   ]
  },
  {
   "cell_type": "code",
   "execution_count": 35,
   "metadata": {},
   "outputs": [
    {
     "data": {
      "text/html": [
       "<div>\n",
       "<style scoped>\n",
       "    .dataframe tbody tr th:only-of-type {\n",
       "        vertical-align: middle;\n",
       "    }\n",
       "\n",
       "    .dataframe tbody tr th {\n",
       "        vertical-align: top;\n",
       "    }\n",
       "\n",
       "    .dataframe thead th {\n",
       "        text-align: right;\n",
       "    }\n",
       "</style>\n",
       "<table border=\"1\" class=\"dataframe\">\n",
       "  <thead>\n",
       "    <tr style=\"text-align: right;\">\n",
       "      <th></th>\n",
       "      <th>abs_error_2016</th>\n",
       "      <th>P70_2016</th>\n",
       "      <th>abs_error_2017</th>\n",
       "      <th>P70_2017</th>\n",
       "    </tr>\n",
       "    <tr>\n",
       "      <th>train_id</th>\n",
       "      <th></th>\n",
       "      <th></th>\n",
       "      <th></th>\n",
       "      <th></th>\n",
       "    </tr>\n",
       "  </thead>\n",
       "  <tbody>\n",
       "    <tr>\n",
       "      <th>330</th>\n",
       "      <td>3.969228</td>\n",
       "      <td>4.237530</td>\n",
       "      <td>3.384297</td>\n",
       "      <td>2.754648</td>\n",
       "    </tr>\n",
       "    <tr>\n",
       "      <th>340</th>\n",
       "      <td>5.787839</td>\n",
       "      <td>6.256024</td>\n",
       "      <td>3.748265</td>\n",
       "      <td>3.826326</td>\n",
       "    </tr>\n",
       "    <tr>\n",
       "      <th>332</th>\n",
       "      <td>7.196827</td>\n",
       "      <td>7.706527</td>\n",
       "      <td>4.309503</td>\n",
       "      <td>3.959128</td>\n",
       "    </tr>\n",
       "    <tr>\n",
       "      <th>341</th>\n",
       "      <td>7.672901</td>\n",
       "      <td>7.904974</td>\n",
       "      <td>4.180581</td>\n",
       "      <td>4.068454</td>\n",
       "    </tr>\n",
       "    <tr>\n",
       "      <th>331</th>\n",
       "      <td>7.067425</td>\n",
       "      <td>7.901354</td>\n",
       "      <td>4.584707</td>\n",
       "      <td>4.345646</td>\n",
       "    </tr>\n",
       "    <tr>\n",
       "      <th>335</th>\n",
       "      <td>6.078374</td>\n",
       "      <td>7.546240</td>\n",
       "      <td>4.858747</td>\n",
       "      <td>4.779395</td>\n",
       "    </tr>\n",
       "    <tr>\n",
       "      <th>333</th>\n",
       "      <td>7.911867</td>\n",
       "      <td>8.734025</td>\n",
       "      <td>4.035364</td>\n",
       "      <td>4.854326</td>\n",
       "    </tr>\n",
       "    <tr>\n",
       "      <th>334</th>\n",
       "      <td>5.644753</td>\n",
       "      <td>6.752798</td>\n",
       "      <td>4.327592</td>\n",
       "      <td>4.937454</td>\n",
       "    </tr>\n",
       "    <tr>\n",
       "      <th>336</th>\n",
       "      <td>6.729931</td>\n",
       "      <td>7.964574</td>\n",
       "      <td>4.561287</td>\n",
       "      <td>4.951055</td>\n",
       "    </tr>\n",
       "    <tr>\n",
       "      <th>339</th>\n",
       "      <td>8.674275</td>\n",
       "      <td>9.345660</td>\n",
       "      <td>4.901091</td>\n",
       "      <td>4.957860</td>\n",
       "    </tr>\n",
       "    <tr>\n",
       "      <th>342</th>\n",
       "      <td>6.887357</td>\n",
       "      <td>8.329812</td>\n",
       "      <td>4.620696</td>\n",
       "      <td>4.993047</td>\n",
       "    </tr>\n",
       "    <tr>\n",
       "      <th>337</th>\n",
       "      <td>7.897765</td>\n",
       "      <td>8.457519</td>\n",
       "      <td>4.619448</td>\n",
       "      <td>5.037426</td>\n",
       "    </tr>\n",
       "    <tr>\n",
       "      <th>338</th>\n",
       "      <td>6.625812</td>\n",
       "      <td>7.107792</td>\n",
       "      <td>5.740200</td>\n",
       "      <td>5.789680</td>\n",
       "    </tr>\n",
       "    <tr>\n",
       "      <th>313</th>\n",
       "      <td>14.667731</td>\n",
       "      <td>14.975059</td>\n",
       "      <td>12.526267</td>\n",
       "      <td>8.365992</td>\n",
       "    </tr>\n",
       "    <tr>\n",
       "      <th>381</th>\n",
       "      <td>11.663839</td>\n",
       "      <td>11.332355</td>\n",
       "      <td>27.684740</td>\n",
       "      <td>9.505562</td>\n",
       "    </tr>\n",
       "    <tr>\n",
       "      <th>382</th>\n",
       "      <td>11.768963</td>\n",
       "      <td>12.936024</td>\n",
       "      <td>10.084653</td>\n",
       "      <td>10.870603</td>\n",
       "    </tr>\n",
       "    <tr>\n",
       "      <th>380</th>\n",
       "      <td>12.440342</td>\n",
       "      <td>15.201635</td>\n",
       "      <td>11.500438</td>\n",
       "      <td>11.689491</td>\n",
       "    </tr>\n",
       "    <tr>\n",
       "      <th>73</th>\n",
       "      <td>12.803230</td>\n",
       "      <td>11.997067</td>\n",
       "      <td>11.829242</td>\n",
       "      <td>11.841731</td>\n",
       "    </tr>\n",
       "    <tr>\n",
       "      <th>42</th>\n",
       "      <td>11.287873</td>\n",
       "      <td>10.034835</td>\n",
       "      <td>13.919232</td>\n",
       "      <td>11.903619</td>\n",
       "    </tr>\n",
       "    <tr>\n",
       "      <th>371</th>\n",
       "      <td>14.597949</td>\n",
       "      <td>17.626192</td>\n",
       "      <td>11.091207</td>\n",
       "      <td>12.852337</td>\n",
       "    </tr>\n",
       "    <tr>\n",
       "      <th>370</th>\n",
       "      <td>14.217618</td>\n",
       "      <td>16.139337</td>\n",
       "      <td>13.633718</td>\n",
       "      <td>13.025886</td>\n",
       "    </tr>\n",
       "    <tr>\n",
       "      <th>383</th>\n",
       "      <td>13.247945</td>\n",
       "      <td>15.090274</td>\n",
       "      <td>27.263803</td>\n",
       "      <td>13.047244</td>\n",
       "    </tr>\n",
       "    <tr>\n",
       "      <th>311</th>\n",
       "      <td>15.442703</td>\n",
       "      <td>14.887458</td>\n",
       "      <td>16.932705</td>\n",
       "      <td>13.110862</td>\n",
       "    </tr>\n",
       "    <tr>\n",
       "      <th>74</th>\n",
       "      <td>17.311456</td>\n",
       "      <td>16.019388</td>\n",
       "      <td>14.514990</td>\n",
       "      <td>14.178965</td>\n",
       "    </tr>\n",
       "    <tr>\n",
       "      <th>821</th>\n",
       "      <td>15.189846</td>\n",
       "      <td>18.167019</td>\n",
       "      <td>12.925146</td>\n",
       "      <td>15.038069</td>\n",
       "    </tr>\n",
       "    <tr>\n",
       "      <th>316</th>\n",
       "      <td>19.150094</td>\n",
       "      <td>22.060532</td>\n",
       "      <td>19.332029</td>\n",
       "      <td>15.534345</td>\n",
       "    </tr>\n",
       "    <tr>\n",
       "      <th>822</th>\n",
       "      <td>15.235814</td>\n",
       "      <td>17.462441</td>\n",
       "      <td>16.478284</td>\n",
       "      <td>16.029494</td>\n",
       "    </tr>\n",
       "    <tr>\n",
       "      <th>364</th>\n",
       "      <td>16.275254</td>\n",
       "      <td>15.353739</td>\n",
       "      <td>17.822901</td>\n",
       "      <td>16.397358</td>\n",
       "    </tr>\n",
       "    <tr>\n",
       "      <th>314</th>\n",
       "      <td>16.933380</td>\n",
       "      <td>19.845665</td>\n",
       "      <td>16.763850</td>\n",
       "      <td>16.629708</td>\n",
       "    </tr>\n",
       "    <tr>\n",
       "      <th>365</th>\n",
       "      <td>18.641315</td>\n",
       "      <td>20.450474</td>\n",
       "      <td>16.479718</td>\n",
       "      <td>17.226528</td>\n",
       "    </tr>\n",
       "    <tr>\n",
       "      <th>...</th>\n",
       "      <td>...</td>\n",
       "      <td>...</td>\n",
       "      <td>...</td>\n",
       "      <td>...</td>\n",
       "    </tr>\n",
       "    <tr>\n",
       "      <th>89</th>\n",
       "      <td>43.591688</td>\n",
       "      <td>48.890564</td>\n",
       "      <td>33.317408</td>\n",
       "      <td>36.612498</td>\n",
       "    </tr>\n",
       "    <tr>\n",
       "      <th>283</th>\n",
       "      <td>26.192907</td>\n",
       "      <td>29.207396</td>\n",
       "      <td>35.399410</td>\n",
       "      <td>40.271697</td>\n",
       "    </tr>\n",
       "    <tr>\n",
       "      <th>27</th>\n",
       "      <td>44.767513</td>\n",
       "      <td>41.266130</td>\n",
       "      <td>56.158664</td>\n",
       "      <td>40.842296</td>\n",
       "    </tr>\n",
       "    <tr>\n",
       "      <th>79</th>\n",
       "      <td>36.316712</td>\n",
       "      <td>39.524847</td>\n",
       "      <td>38.448169</td>\n",
       "      <td>42.349088</td>\n",
       "    </tr>\n",
       "    <tr>\n",
       "      <th>28</th>\n",
       "      <td>28.268453</td>\n",
       "      <td>27.981823</td>\n",
       "      <td>50.050703</td>\n",
       "      <td>42.507957</td>\n",
       "    </tr>\n",
       "    <tr>\n",
       "      <th>30</th>\n",
       "      <td>33.910650</td>\n",
       "      <td>35.526814</td>\n",
       "      <td>45.446840</td>\n",
       "      <td>43.809357</td>\n",
       "    </tr>\n",
       "    <tr>\n",
       "      <th>7</th>\n",
       "      <td>54.824933</td>\n",
       "      <td>58.390892</td>\n",
       "      <td>53.795095</td>\n",
       "      <td>44.291758</td>\n",
       "    </tr>\n",
       "    <tr>\n",
       "      <th>59</th>\n",
       "      <td>43.024857</td>\n",
       "      <td>49.039981</td>\n",
       "      <td>40.089141</td>\n",
       "      <td>45.570974</td>\n",
       "    </tr>\n",
       "    <tr>\n",
       "      <th>80</th>\n",
       "      <td>38.328797</td>\n",
       "      <td>43.308714</td>\n",
       "      <td>44.560219</td>\n",
       "      <td>50.724899</td>\n",
       "    </tr>\n",
       "    <tr>\n",
       "      <th>69</th>\n",
       "      <td>45.642621</td>\n",
       "      <td>58.255499</td>\n",
       "      <td>38.422705</td>\n",
       "      <td>54.509207</td>\n",
       "    </tr>\n",
       "    <tr>\n",
       "      <th>11</th>\n",
       "      <td>59.005563</td>\n",
       "      <td>54.923365</td>\n",
       "      <td>65.894539</td>\n",
       "      <td>54.788670</td>\n",
       "    </tr>\n",
       "    <tr>\n",
       "      <th>8</th>\n",
       "      <td>73.610112</td>\n",
       "      <td>57.451176</td>\n",
       "      <td>82.708888</td>\n",
       "      <td>55.154170</td>\n",
       "    </tr>\n",
       "    <tr>\n",
       "      <th>29</th>\n",
       "      <td>36.945935</td>\n",
       "      <td>36.129235</td>\n",
       "      <td>56.018652</td>\n",
       "      <td>56.140785</td>\n",
       "    </tr>\n",
       "    <tr>\n",
       "      <th>21</th>\n",
       "      <td>59.790489</td>\n",
       "      <td>65.225951</td>\n",
       "      <td>61.438209</td>\n",
       "      <td>64.095955</td>\n",
       "    </tr>\n",
       "    <tr>\n",
       "      <th>448</th>\n",
       "      <td>52.420137</td>\n",
       "      <td>57.311393</td>\n",
       "      <td>58.265360</td>\n",
       "      <td>65.275965</td>\n",
       "    </tr>\n",
       "    <tr>\n",
       "      <th>97</th>\n",
       "      <td>54.159641</td>\n",
       "      <td>50.554027</td>\n",
       "      <td>64.574362</td>\n",
       "      <td>66.128510</td>\n",
       "    </tr>\n",
       "    <tr>\n",
       "      <th>22</th>\n",
       "      <td>65.422563</td>\n",
       "      <td>59.150625</td>\n",
       "      <td>76.125212</td>\n",
       "      <td>67.728592</td>\n",
       "    </tr>\n",
       "    <tr>\n",
       "      <th>49</th>\n",
       "      <td>49.629785</td>\n",
       "      <td>54.358064</td>\n",
       "      <td>61.745162</td>\n",
       "      <td>69.559729</td>\n",
       "    </tr>\n",
       "    <tr>\n",
       "      <th>92</th>\n",
       "      <td>59.174867</td>\n",
       "      <td>62.848911</td>\n",
       "      <td>74.564174</td>\n",
       "      <td>70.195430</td>\n",
       "    </tr>\n",
       "    <tr>\n",
       "      <th>98</th>\n",
       "      <td>66.929489</td>\n",
       "      <td>66.470984</td>\n",
       "      <td>66.842732</td>\n",
       "      <td>70.714851</td>\n",
       "    </tr>\n",
       "    <tr>\n",
       "      <th>3</th>\n",
       "      <td>64.357407</td>\n",
       "      <td>59.203957</td>\n",
       "      <td>86.541254</td>\n",
       "      <td>74.127968</td>\n",
       "    </tr>\n",
       "    <tr>\n",
       "      <th>5</th>\n",
       "      <td>63.163946</td>\n",
       "      <td>65.942128</td>\n",
       "      <td>86.962070</td>\n",
       "      <td>74.801999</td>\n",
       "    </tr>\n",
       "    <tr>\n",
       "      <th>91</th>\n",
       "      <td>62.129919</td>\n",
       "      <td>55.716401</td>\n",
       "      <td>67.189074</td>\n",
       "      <td>76.556147</td>\n",
       "    </tr>\n",
       "    <tr>\n",
       "      <th>53</th>\n",
       "      <td>71.732183</td>\n",
       "      <td>66.237170</td>\n",
       "      <td>73.208374</td>\n",
       "      <td>77.848185</td>\n",
       "    </tr>\n",
       "    <tr>\n",
       "      <th>52</th>\n",
       "      <td>77.464045</td>\n",
       "      <td>76.399051</td>\n",
       "      <td>75.149688</td>\n",
       "      <td>80.698700</td>\n",
       "    </tr>\n",
       "    <tr>\n",
       "      <th>14</th>\n",
       "      <td>53.584195</td>\n",
       "      <td>55.298288</td>\n",
       "      <td>78.001158</td>\n",
       "      <td>82.170139</td>\n",
       "    </tr>\n",
       "    <tr>\n",
       "      <th>4</th>\n",
       "      <td>55.373821</td>\n",
       "      <td>46.987208</td>\n",
       "      <td>91.961375</td>\n",
       "      <td>89.642430</td>\n",
       "    </tr>\n",
       "    <tr>\n",
       "      <th>19</th>\n",
       "      <td>40.067567</td>\n",
       "      <td>43.706170</td>\n",
       "      <td>79.743985</td>\n",
       "      <td>99.524760</td>\n",
       "    </tr>\n",
       "    <tr>\n",
       "      <th>20</th>\n",
       "      <td>51.561420</td>\n",
       "      <td>52.031993</td>\n",
       "      <td>82.830602</td>\n",
       "      <td>100.117225</td>\n",
       "    </tr>\n",
       "    <tr>\n",
       "      <th>6</th>\n",
       "      <td>59.782568</td>\n",
       "      <td>57.423027</td>\n",
       "      <td>100.451263</td>\n",
       "      <td>104.391003</td>\n",
       "    </tr>\n",
       "  </tbody>\n",
       "</table>\n",
       "<p>99 rows × 4 columns</p>\n",
       "</div>"
      ],
      "text/plain": [
       "          abs_error_2016   P70_2016  abs_error_2017    P70_2017\n",
       "train_id                                                       \n",
       "330             3.969228   4.237530        3.384297    2.754648\n",
       "340             5.787839   6.256024        3.748265    3.826326\n",
       "332             7.196827   7.706527        4.309503    3.959128\n",
       "341             7.672901   7.904974        4.180581    4.068454\n",
       "331             7.067425   7.901354        4.584707    4.345646\n",
       "335             6.078374   7.546240        4.858747    4.779395\n",
       "333             7.911867   8.734025        4.035364    4.854326\n",
       "334             5.644753   6.752798        4.327592    4.937454\n",
       "336             6.729931   7.964574        4.561287    4.951055\n",
       "339             8.674275   9.345660        4.901091    4.957860\n",
       "342             6.887357   8.329812        4.620696    4.993047\n",
       "337             7.897765   8.457519        4.619448    5.037426\n",
       "338             6.625812   7.107792        5.740200    5.789680\n",
       "313            14.667731  14.975059       12.526267    8.365992\n",
       "381            11.663839  11.332355       27.684740    9.505562\n",
       "382            11.768963  12.936024       10.084653   10.870603\n",
       "380            12.440342  15.201635       11.500438   11.689491\n",
       "73             12.803230  11.997067       11.829242   11.841731\n",
       "42             11.287873  10.034835       13.919232   11.903619\n",
       "371            14.597949  17.626192       11.091207   12.852337\n",
       "370            14.217618  16.139337       13.633718   13.025886\n",
       "383            13.247945  15.090274       27.263803   13.047244\n",
       "311            15.442703  14.887458       16.932705   13.110862\n",
       "74             17.311456  16.019388       14.514990   14.178965\n",
       "821            15.189846  18.167019       12.925146   15.038069\n",
       "316            19.150094  22.060532       19.332029   15.534345\n",
       "822            15.235814  17.462441       16.478284   16.029494\n",
       "364            16.275254  15.353739       17.822901   16.397358\n",
       "314            16.933380  19.845665       16.763850   16.629708\n",
       "365            18.641315  20.450474       16.479718   17.226528\n",
       "...                  ...        ...             ...         ...\n",
       "89             43.591688  48.890564       33.317408   36.612498\n",
       "283            26.192907  29.207396       35.399410   40.271697\n",
       "27             44.767513  41.266130       56.158664   40.842296\n",
       "79             36.316712  39.524847       38.448169   42.349088\n",
       "28             28.268453  27.981823       50.050703   42.507957\n",
       "30             33.910650  35.526814       45.446840   43.809357\n",
       "7              54.824933  58.390892       53.795095   44.291758\n",
       "59             43.024857  49.039981       40.089141   45.570974\n",
       "80             38.328797  43.308714       44.560219   50.724899\n",
       "69             45.642621  58.255499       38.422705   54.509207\n",
       "11             59.005563  54.923365       65.894539   54.788670\n",
       "8              73.610112  57.451176       82.708888   55.154170\n",
       "29             36.945935  36.129235       56.018652   56.140785\n",
       "21             59.790489  65.225951       61.438209   64.095955\n",
       "448            52.420137  57.311393       58.265360   65.275965\n",
       "97             54.159641  50.554027       64.574362   66.128510\n",
       "22             65.422563  59.150625       76.125212   67.728592\n",
       "49             49.629785  54.358064       61.745162   69.559729\n",
       "92             59.174867  62.848911       74.564174   70.195430\n",
       "98             66.929489  66.470984       66.842732   70.714851\n",
       "3              64.357407  59.203957       86.541254   74.127968\n",
       "5              63.163946  65.942128       86.962070   74.801999\n",
       "91             62.129919  55.716401       67.189074   76.556147\n",
       "53             71.732183  66.237170       73.208374   77.848185\n",
       "52             77.464045  76.399051       75.149688   80.698700\n",
       "14             53.584195  55.298288       78.001158   82.170139\n",
       "4              55.373821  46.987208       91.961375   89.642430\n",
       "19             40.067567  43.706170       79.743985   99.524760\n",
       "20             51.561420  52.031993       82.830602  100.117225\n",
       "6              59.782568  57.423027      100.451263  104.391003\n",
       "\n",
       "[99 rows x 4 columns]"
      ]
     },
     "execution_count": 35,
     "metadata": {},
     "output_type": "execute_result"
    }
   ],
   "source": [
    "prediction_error_per_train.sort_values(\"P70_2017\")"
   ]
  },
  {
   "cell_type": "code",
   "execution_count": 36,
   "metadata": {},
   "outputs": [
    {
     "data": {
      "text/plain": [
       "abs_error_2016    28.364912\n",
       "P70_2016          29.303332\n",
       "abs_error_2017    32.311179\n",
       "P70_2017          32.212290\n",
       "dtype: float64"
      ]
     },
     "execution_count": 36,
     "metadata": {},
     "output_type": "execute_result"
    }
   ],
   "source": [
    "prediction_error_per_train.mean()"
   ]
  },
  {
   "cell_type": "markdown",
   "metadata": {},
   "source": [
    "# Generate some meta-data for each train-line"
   ]
  },
  {
   "cell_type": "code",
   "execution_count": 37,
   "metadata": {},
   "outputs": [],
   "source": [
    "meta_data_per_train=train_data_red[[\"train_id\",\"nr_of_stations\",\"duration\"]].groupby(\"train_id\").median()"
   ]
  },
  {
   "cell_type": "code",
   "execution_count": 38,
   "metadata": {},
   "outputs": [],
   "source": [
    "departure_time_of_day=train_data_red[\"dep_timestamp\"].apply(\n",
    "    lambda t:int(t-datetime.datetime.combine(\n",
    "        datetime.datetime.fromtimestamp(t).date(),datetime.time(0,0,0)\n",
    "    ).timestamp())\n",
    ")"
   ]
  },
  {
   "cell_type": "code",
   "execution_count": 39,
   "metadata": {},
   "outputs": [],
   "source": [
    "meta_data_per_train[\"scheduled_dep_time_of_day\"]=train_data_red[[\"train_id\"]].join(departure_time_of_day).groupby(\"train_id\").median()"
   ]
  },
  {
   "cell_type": "markdown",
   "metadata": {},
   "source": [
    "# For each train-line, find the smallest error-interval such that at least 70% of all predictions of 2016 and 2017 fall within that interval"
   ]
  },
  {
   "cell_type": "code",
   "execution_count": 40,
   "metadata": {},
   "outputs": [],
   "source": [
    "r={}\n",
    "for train_id in more_data_trains.values:\n",
    "    upper=[]\n",
    "    lower=[]\n",
    "    for pr in [prediction_2016,prediction_2017]:\n",
    "        prediction_ti=(pr[\"delay\"][train_data_red[\"train_id\"]==train_id]-pr[\"delay_prediction\"][train_data_red[\"train_id\"]==train_id])\n",
    "        prediction_ti_s=prediction_ti.sort_values().values\n",
    "        n=round(len(prediction_ti_s)*.7)\n",
    "        dist=[(prediction_ti_s[n+i]-prediction_ti_s[i],i) for i in range(len(prediction_ti)-n)]\n",
    "        v,i=min(dist)\n",
    "        upper+=[prediction_ti_s[n+i]]\n",
    "        lower+=[prediction_ti_s[i]]\n",
    "    r[train_id]=(max(max(upper),0),min(min(lower),0))"
   ]
  },
  {
   "cell_type": "code",
   "execution_count": 41,
   "metadata": {},
   "outputs": [],
   "source": [
    "upper_lower_error=pd.DataFrame.from_dict(r, orient='index',columns=[\"upper\",\"lower\"])"
   ]
  },
  {
   "cell_type": "code",
   "execution_count": 42,
   "metadata": {},
   "outputs": [],
   "source": [
    "meta_data_per_train=meta_data_per_train.join(upper_lower_error)"
   ]
  },
  {
   "cell_type": "markdown",
   "metadata": {},
   "source": [
    "# Store all meta-data in a csv-file to be imported into the production db"
   ]
  },
  {
   "cell_type": "code",
   "execution_count": 43,
   "metadata": {},
   "outputs": [],
   "source": [
    "meta_data_per_train.to_csv(\"train_meta_data.csv\")"
   ]
  },
  {
   "cell_type": "markdown",
   "metadata": {},
   "source": [
    "# Train the full model using all the data (end of 2017)"
   ]
  },
  {
   "cell_type": "code",
   "execution_count": 44,
   "metadata": {},
   "outputs": [],
   "source": [
    "ct=ColumnTransform(train_data_no_outliers,label=\"delay\")\n",
    "td_all_tf=ct.transform(train_data_no_outliers)\n",
    "td_all_label=td_all_tf.pop(\"delay\")\n",
    "xgb_all=xgb.DMatrix(td_all_tf,label=td_all_label)\n",
    "\n",
    "param = {'max_depth': 4, 'eta': 0.1, \"subsample\":0.7,\"verbosity\":0}\n",
    "bst_all=xgb.train(param,xgb_all,num_boost_round=300)"
   ]
  },
  {
   "cell_type": "markdown",
   "metadata": {},
   "source": [
    "# Store the transformations and the trained model to be used in production"
   ]
  },
  {
   "cell_type": "code",
   "execution_count": 45,
   "metadata": {},
   "outputs": [],
   "source": [
    "import pickle\n",
    "\n",
    "pickle.dump(ct.to_dict(),open(\"ct_dict.pickle\",\"wb\"))\n",
    "pickle.dump(bst_all,open(\"bst.pickle\",\"wb\"))"
   ]
  },
  {
   "cell_type": "code",
   "execution_count": null,
   "metadata": {},
   "outputs": [],
   "source": []
  }
 ],
 "metadata": {
  "kernelspec": {
   "display_name": "Python 3",
   "language": "python",
   "name": "python3"
  },
  "language_info": {
   "codemirror_mode": {
    "name": "ipython",
    "version": 3
   },
   "file_extension": ".py",
   "mimetype": "text/x-python",
   "name": "python",
   "nbconvert_exporter": "python",
   "pygments_lexer": "ipython3",
   "version": "3.6.7"
  }
 },
 "nbformat": 4,
 "nbformat_minor": 2
}
